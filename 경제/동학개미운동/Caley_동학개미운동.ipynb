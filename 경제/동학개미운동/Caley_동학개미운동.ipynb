{
  "nbformat": 4,
  "nbformat_minor": 0,
  "metadata": {
    "colab": {
      "name": "Caley_동학개미운동.ipynb",
      "provenance": [],
      "collapsed_sections": []
    },
    "kernelspec": {
      "name": "python3",
      "display_name": "Python 3"
    }
  },
  "cells": [
    {
      "cell_type": "code",
      "metadata": {
        "id": "ZV2gL99WoT2O",
        "colab_type": "code",
        "colab": {
          "base_uri": "https://localhost:8080/",
          "height": 91
        },
        "outputId": "c8ef2081-bca4-468e-9cc2-857cae29b4e4"
      },
      "source": [
        "import pandas as pd\n",
        "import numpy as np\n",
        "import seaborn as sns\n",
        "import matplotlib.pyplot as plt\n",
        "%matplotlib inline\n",
        "import platform \n",
        "\n",
        "from matplotlib import font_manager, rc \n",
        "plt.rcParams['axes.unicode_minus'] = False\n",
        "\n",
        "if platform.system() == 'Darwin':\n",
        "    rc('font', family='AppleGothic')\n",
        "elif platform.system() == 'Windows':\n",
        "    path = \"c:/Windows/Fonts/malgun.ttf\"\n",
        "    font_name = font_manager.FontProperties(fname=path).get_name()\n",
        "    rc('font', family=font_name)\n",
        "else:\n",
        "    print('Unknown system')"
      ],
      "execution_count": 2,
      "outputs": [
        {
          "output_type": "stream",
          "text": [
            "Unknown system\n"
          ],
          "name": "stdout"
        },
        {
          "output_type": "stream",
          "text": [
            "/usr/local/lib/python3.6/dist-packages/statsmodels/tools/_testing.py:19: FutureWarning: pandas.util.testing is deprecated. Use the functions in the public API at pandas.testing instead.\n",
            "  import pandas.util.testing as tm\n"
          ],
          "name": "stderr"
        }
      ]
    },
    {
      "cell_type": "code",
      "metadata": {
        "id": "SsR1X-mcocmK",
        "colab_type": "code",
        "colab": {
          "base_uri": "https://localhost:8080/",
          "height": 35
        },
        "outputId": "b9575243-22fe-44d4-b26b-77b3c583e60d"
      },
      "source": [
        "from google.colab import drive\n",
        "drive.mount('/gdrive/',force_remount=True)"
      ],
      "execution_count": 18,
      "outputs": [
        {
          "output_type": "stream",
          "text": [
            "Mounted at /gdrive/\n"
          ],
          "name": "stdout"
        }
      ]
    },
    {
      "cell_type": "code",
      "metadata": {
        "id": "pqWRfJuPplSa",
        "colab_type": "code",
        "colab": {
          "base_uri": "https://localhost:8080/",
          "height": 397
        },
        "outputId": "92c3f620-7d57-4bbb-8d32-1db573f6b174"
      },
      "source": [
        "# imf기간 KOSPI지수\n",
        "imfdf = pd.read_csv('97.08.01_98.07.31kospi.csv', encoding='UTF-8')\n",
        "imfdf1 = imfdf[::-1]\n",
        "imfdf1"
      ],
      "execution_count": 19,
      "outputs": [
        {
          "output_type": "error",
          "ename": "FileNotFoundError",
          "evalue": "ignored",
          "traceback": [
            "\u001b[0;31m---------------------------------------------------------------------------\u001b[0m",
            "\u001b[0;31mFileNotFoundError\u001b[0m                         Traceback (most recent call last)",
            "\u001b[0;32m<ipython-input-19-1ee4daf8fc5a>\u001b[0m in \u001b[0;36m<module>\u001b[0;34m()\u001b[0m\n\u001b[1;32m      1\u001b[0m \u001b[0;31m# imf기간 KOSPI지수\u001b[0m\u001b[0;34m\u001b[0m\u001b[0;34m\u001b[0m\u001b[0;34m\u001b[0m\u001b[0m\n\u001b[0;32m----> 2\u001b[0;31m \u001b[0mimfdf\u001b[0m \u001b[0;34m=\u001b[0m \u001b[0mpd\u001b[0m\u001b[0;34m.\u001b[0m\u001b[0mread_csv\u001b[0m\u001b[0;34m(\u001b[0m\u001b[0;34m'97.08.01_98.07.31kospi.csv'\u001b[0m\u001b[0;34m,\u001b[0m \u001b[0mencoding\u001b[0m\u001b[0;34m=\u001b[0m\u001b[0;34m'UTF-8'\u001b[0m\u001b[0;34m)\u001b[0m\u001b[0;34m\u001b[0m\u001b[0;34m\u001b[0m\u001b[0m\n\u001b[0m\u001b[1;32m      3\u001b[0m \u001b[0mimfdf1\u001b[0m \u001b[0;34m=\u001b[0m \u001b[0mimfdf\u001b[0m\u001b[0;34m[\u001b[0m\u001b[0;34m:\u001b[0m\u001b[0;34m:\u001b[0m\u001b[0;34m-\u001b[0m\u001b[0;36m1\u001b[0m\u001b[0;34m]\u001b[0m\u001b[0;34m\u001b[0m\u001b[0;34m\u001b[0m\u001b[0m\n\u001b[1;32m      4\u001b[0m \u001b[0mimfdf1\u001b[0m\u001b[0;34m\u001b[0m\u001b[0;34m\u001b[0m\u001b[0m\n",
            "\u001b[0;32m/usr/local/lib/python3.6/dist-packages/pandas/io/parsers.py\u001b[0m in \u001b[0;36mparser_f\u001b[0;34m(filepath_or_buffer, sep, delimiter, header, names, index_col, usecols, squeeze, prefix, mangle_dupe_cols, dtype, engine, converters, true_values, false_values, skipinitialspace, skiprows, skipfooter, nrows, na_values, keep_default_na, na_filter, verbose, skip_blank_lines, parse_dates, infer_datetime_format, keep_date_col, date_parser, dayfirst, cache_dates, iterator, chunksize, compression, thousands, decimal, lineterminator, quotechar, quoting, doublequote, escapechar, comment, encoding, dialect, error_bad_lines, warn_bad_lines, delim_whitespace, low_memory, memory_map, float_precision)\u001b[0m\n\u001b[1;32m    674\u001b[0m         )\n\u001b[1;32m    675\u001b[0m \u001b[0;34m\u001b[0m\u001b[0m\n\u001b[0;32m--> 676\u001b[0;31m         \u001b[0;32mreturn\u001b[0m \u001b[0m_read\u001b[0m\u001b[0;34m(\u001b[0m\u001b[0mfilepath_or_buffer\u001b[0m\u001b[0;34m,\u001b[0m \u001b[0mkwds\u001b[0m\u001b[0;34m)\u001b[0m\u001b[0;34m\u001b[0m\u001b[0;34m\u001b[0m\u001b[0m\n\u001b[0m\u001b[1;32m    677\u001b[0m \u001b[0;34m\u001b[0m\u001b[0m\n\u001b[1;32m    678\u001b[0m     \u001b[0mparser_f\u001b[0m\u001b[0;34m.\u001b[0m\u001b[0m__name__\u001b[0m \u001b[0;34m=\u001b[0m \u001b[0mname\u001b[0m\u001b[0;34m\u001b[0m\u001b[0;34m\u001b[0m\u001b[0m\n",
            "\u001b[0;32m/usr/local/lib/python3.6/dist-packages/pandas/io/parsers.py\u001b[0m in \u001b[0;36m_read\u001b[0;34m(filepath_or_buffer, kwds)\u001b[0m\n\u001b[1;32m    446\u001b[0m \u001b[0;34m\u001b[0m\u001b[0m\n\u001b[1;32m    447\u001b[0m     \u001b[0;31m# Create the parser.\u001b[0m\u001b[0;34m\u001b[0m\u001b[0;34m\u001b[0m\u001b[0;34m\u001b[0m\u001b[0m\n\u001b[0;32m--> 448\u001b[0;31m     \u001b[0mparser\u001b[0m \u001b[0;34m=\u001b[0m \u001b[0mTextFileReader\u001b[0m\u001b[0;34m(\u001b[0m\u001b[0mfp_or_buf\u001b[0m\u001b[0;34m,\u001b[0m \u001b[0;34m**\u001b[0m\u001b[0mkwds\u001b[0m\u001b[0;34m)\u001b[0m\u001b[0;34m\u001b[0m\u001b[0;34m\u001b[0m\u001b[0m\n\u001b[0m\u001b[1;32m    449\u001b[0m \u001b[0;34m\u001b[0m\u001b[0m\n\u001b[1;32m    450\u001b[0m     \u001b[0;32mif\u001b[0m \u001b[0mchunksize\u001b[0m \u001b[0;32mor\u001b[0m \u001b[0miterator\u001b[0m\u001b[0;34m:\u001b[0m\u001b[0;34m\u001b[0m\u001b[0;34m\u001b[0m\u001b[0m\n",
            "\u001b[0;32m/usr/local/lib/python3.6/dist-packages/pandas/io/parsers.py\u001b[0m in \u001b[0;36m__init__\u001b[0;34m(self, f, engine, **kwds)\u001b[0m\n\u001b[1;32m    878\u001b[0m             \u001b[0mself\u001b[0m\u001b[0;34m.\u001b[0m\u001b[0moptions\u001b[0m\u001b[0;34m[\u001b[0m\u001b[0;34m\"has_index_names\"\u001b[0m\u001b[0;34m]\u001b[0m \u001b[0;34m=\u001b[0m \u001b[0mkwds\u001b[0m\u001b[0;34m[\u001b[0m\u001b[0;34m\"has_index_names\"\u001b[0m\u001b[0;34m]\u001b[0m\u001b[0;34m\u001b[0m\u001b[0;34m\u001b[0m\u001b[0m\n\u001b[1;32m    879\u001b[0m \u001b[0;34m\u001b[0m\u001b[0m\n\u001b[0;32m--> 880\u001b[0;31m         \u001b[0mself\u001b[0m\u001b[0;34m.\u001b[0m\u001b[0m_make_engine\u001b[0m\u001b[0;34m(\u001b[0m\u001b[0mself\u001b[0m\u001b[0;34m.\u001b[0m\u001b[0mengine\u001b[0m\u001b[0;34m)\u001b[0m\u001b[0;34m\u001b[0m\u001b[0;34m\u001b[0m\u001b[0m\n\u001b[0m\u001b[1;32m    881\u001b[0m \u001b[0;34m\u001b[0m\u001b[0m\n\u001b[1;32m    882\u001b[0m     \u001b[0;32mdef\u001b[0m \u001b[0mclose\u001b[0m\u001b[0;34m(\u001b[0m\u001b[0mself\u001b[0m\u001b[0;34m)\u001b[0m\u001b[0;34m:\u001b[0m\u001b[0;34m\u001b[0m\u001b[0;34m\u001b[0m\u001b[0m\n",
            "\u001b[0;32m/usr/local/lib/python3.6/dist-packages/pandas/io/parsers.py\u001b[0m in \u001b[0;36m_make_engine\u001b[0;34m(self, engine)\u001b[0m\n\u001b[1;32m   1112\u001b[0m     \u001b[0;32mdef\u001b[0m \u001b[0m_make_engine\u001b[0m\u001b[0;34m(\u001b[0m\u001b[0mself\u001b[0m\u001b[0;34m,\u001b[0m \u001b[0mengine\u001b[0m\u001b[0;34m=\u001b[0m\u001b[0;34m\"c\"\u001b[0m\u001b[0;34m)\u001b[0m\u001b[0;34m:\u001b[0m\u001b[0;34m\u001b[0m\u001b[0;34m\u001b[0m\u001b[0m\n\u001b[1;32m   1113\u001b[0m         \u001b[0;32mif\u001b[0m \u001b[0mengine\u001b[0m \u001b[0;34m==\u001b[0m \u001b[0;34m\"c\"\u001b[0m\u001b[0;34m:\u001b[0m\u001b[0;34m\u001b[0m\u001b[0;34m\u001b[0m\u001b[0m\n\u001b[0;32m-> 1114\u001b[0;31m             \u001b[0mself\u001b[0m\u001b[0;34m.\u001b[0m\u001b[0m_engine\u001b[0m \u001b[0;34m=\u001b[0m \u001b[0mCParserWrapper\u001b[0m\u001b[0;34m(\u001b[0m\u001b[0mself\u001b[0m\u001b[0;34m.\u001b[0m\u001b[0mf\u001b[0m\u001b[0;34m,\u001b[0m \u001b[0;34m**\u001b[0m\u001b[0mself\u001b[0m\u001b[0;34m.\u001b[0m\u001b[0moptions\u001b[0m\u001b[0;34m)\u001b[0m\u001b[0;34m\u001b[0m\u001b[0;34m\u001b[0m\u001b[0m\n\u001b[0m\u001b[1;32m   1115\u001b[0m         \u001b[0;32melse\u001b[0m\u001b[0;34m:\u001b[0m\u001b[0;34m\u001b[0m\u001b[0;34m\u001b[0m\u001b[0m\n\u001b[1;32m   1116\u001b[0m             \u001b[0;32mif\u001b[0m \u001b[0mengine\u001b[0m \u001b[0;34m==\u001b[0m \u001b[0;34m\"python\"\u001b[0m\u001b[0;34m:\u001b[0m\u001b[0;34m\u001b[0m\u001b[0;34m\u001b[0m\u001b[0m\n",
            "\u001b[0;32m/usr/local/lib/python3.6/dist-packages/pandas/io/parsers.py\u001b[0m in \u001b[0;36m__init__\u001b[0;34m(self, src, **kwds)\u001b[0m\n\u001b[1;32m   1872\u001b[0m         \u001b[0;32mif\u001b[0m \u001b[0mkwds\u001b[0m\u001b[0;34m.\u001b[0m\u001b[0mget\u001b[0m\u001b[0;34m(\u001b[0m\u001b[0;34m\"compression\"\u001b[0m\u001b[0;34m)\u001b[0m \u001b[0;32mis\u001b[0m \u001b[0;32mNone\u001b[0m \u001b[0;32mand\u001b[0m \u001b[0mencoding\u001b[0m\u001b[0;34m:\u001b[0m\u001b[0;34m\u001b[0m\u001b[0;34m\u001b[0m\u001b[0m\n\u001b[1;32m   1873\u001b[0m             \u001b[0;32mif\u001b[0m \u001b[0misinstance\u001b[0m\u001b[0;34m(\u001b[0m\u001b[0msrc\u001b[0m\u001b[0;34m,\u001b[0m \u001b[0mstr\u001b[0m\u001b[0;34m)\u001b[0m\u001b[0;34m:\u001b[0m\u001b[0;34m\u001b[0m\u001b[0;34m\u001b[0m\u001b[0m\n\u001b[0;32m-> 1874\u001b[0;31m                 \u001b[0msrc\u001b[0m \u001b[0;34m=\u001b[0m \u001b[0mopen\u001b[0m\u001b[0;34m(\u001b[0m\u001b[0msrc\u001b[0m\u001b[0;34m,\u001b[0m \u001b[0;34m\"rb\"\u001b[0m\u001b[0;34m)\u001b[0m\u001b[0;34m\u001b[0m\u001b[0;34m\u001b[0m\u001b[0m\n\u001b[0m\u001b[1;32m   1875\u001b[0m                 \u001b[0mself\u001b[0m\u001b[0;34m.\u001b[0m\u001b[0mhandles\u001b[0m\u001b[0;34m.\u001b[0m\u001b[0mappend\u001b[0m\u001b[0;34m(\u001b[0m\u001b[0msrc\u001b[0m\u001b[0;34m)\u001b[0m\u001b[0;34m\u001b[0m\u001b[0;34m\u001b[0m\u001b[0m\n\u001b[1;32m   1876\u001b[0m \u001b[0;34m\u001b[0m\u001b[0m\n",
            "\u001b[0;31mFileNotFoundError\u001b[0m: [Errno 2] No such file or directory: '97.08.01_98.07.31kospi.csv'"
          ]
        }
      ]
    },
    {
      "cell_type": "code",
      "metadata": {
        "id": "ENLr208Lp9b3",
        "colab_type": "code",
        "colab": {}
      },
      "source": [
        "# IMF 시기 KOSPI지수\n",
        "\n",
        "plt.title('IMF KOSPI')\n",
        "\n",
        "imfdf1['연월'] = imfdf1['년/월/일']\n",
        "x = imfdf1['연월']\n",
        "y = imfdf1['종가']\n",
        "#month = ['97.8.1','97.10.1','97.12.1','98.2.1','98.4.1','98.6.1',]\n",
        "#plt.xticks(month,x)\n",
        "plt.xlabel('1997. 8. 1. ~ 1998. 7.31.')\n",
        "plt.ylabel('KOSPI')\n",
        "plt.xticks(rotation=45)\n",
        "plt.grid()\n",
        "#plt.legend()\n",
        "plt.figure(figsize=(20, 20))\n",
        "plt.plot(x,y)"
      ],
      "execution_count": null,
      "outputs": []
    },
    {
      "cell_type": "code",
      "metadata": {
        "id": "PSDJyCp1v2-u",
        "colab_type": "code",
        "colab": {}
      },
      "source": [
        "# KOSPI지수\n",
        "kospidf = pd.read_excel('kospi지수 그래프.xls', encoding='UTF-8', thousands=',')\n",
        "\n",
        "  # 시간순서로 정렬 \n",
        "kospidf_r = kospidf[::-1]\n",
        "kospidf_r_form = kospidf_r[111:]\n",
        "\n",
        "  # KOSPI지수 분리\n",
        "kospidf_r_form1 = kospidf_r_form.loc[:, ['년/월/일', '지수']]\n",
        "\n",
        "  # 자료형 변환 \n",
        "kospidf_r_form1['년/월/일'] = pd.to_datetime(kospidf_r_form1['년/월/일'])\n",
        "\n",
        "kospidf_r_form1['지수'] = kospidf_r_form1['지수'].apply(pd.to_numeric)\n",
        "kospidf_r_form1"
      ],
      "execution_count": null,
      "outputs": []
    },
    {
      "cell_type": "code",
      "metadata": {
        "id": "yXgIVIwVv_l7",
        "colab_type": "code",
        "colab": {}
      },
      "source": [
        "# 2020년 KOSPI지수 시각화\n",
        "\n",
        "plt.title('2020 KOSPI')\n",
        "\n",
        "x = kospidf_r_form1['년/월/일']\n",
        "y = kospidf_r_form1['지수']\n",
        "# month = ['97.8.1','97.10.1','97.12.1','98.2.1','98.4.1','98.6.1',]\n",
        "# plt.xticks(month,x)\n",
        "plt.xlabel('2020. 1. 2. ~ 2020. 7.20.')\n",
        "plt.ylabel('KOSPI')\n",
        "plt.xticks(rotation=45)\n",
        "plt.yticks(np.arange(1400,2300,100))\n",
        "plt.grid()\n",
        "#plt.legend()\n",
        "plt.figure(figsize=(20, 20))\n",
        "plt.plot(x,y)"
      ],
      "execution_count": null,
      "outputs": []
    },
    {
      "cell_type": "code",
      "metadata": {
        "id": "CLOnxOZMwb-e",
        "colab_type": "code",
        "colab": {}
      },
      "source": [
        "# 2020년 투자자별 KOSPI 거래량(단위:천주)\n",
        "\n",
        "kospi_trade = pd.read_excel('kospi투자자별 실적그래프.xls', encoding='EUC-KR', thousands=',')\n",
        "\n",
        "  # 시간순서로 정렬 \n",
        "kospi_trade_r = kospi_trade[::-1]\n",
        "kospi_trade_r1 = kospi_trade_r[111:]\n",
        "\n",
        "  # 투자자별 순매수\n",
        "kospi_trade_r2 = kospi_trade_r1[['년/월/일', '개인_순매수','외국인_순매수','금융투자_순매수','보험_순매수','투신_순매수','사모_순매수','은행_순매수', '기타금융_순매수','연기금 등_순매수','기타법인_순매수','기타외국인_순매수']]\n",
        "\n",
        "  # 자료형 변환 \n",
        "kospi_trade_r2['년/월/일'] = pd.to_datetime(kospi_trade_r2['년/월/일'])\n",
        "\n",
        "kospi_trade_r2['개인_순매수'] = kospi_trade_r2['개인_순매수'].apply(pd.to_numeric)\n",
        "kospi_trade_r2['외국인_순매수'] = kospi_trade_r2['외국인_순매수'].apply(pd.to_numeric)\n",
        "kospi_trade_r2['기타법인_순매수'] = kospi_trade_r2['기타법인_순매수'].apply(pd.to_numeric)\n",
        "kospi_trade_r2['금융투자_순매수'] = kospi_trade_r2['금융투자_순매수'].apply(pd.to_numeric)\n",
        "kospi_trade_r2['보험_순매수'] = kospi_trade_r2['보험_순매수'].apply(pd.to_numeric)\n",
        "kospi_trade_r2['투신_순매수'] = kospi_trade_r2['투신_순매수'].apply(pd.to_numeric)\n",
        "kospi_trade_r2['사모_순매수'] = kospi_trade_r2['사모_순매수'].apply(pd.to_numeric)\n",
        "kospi_trade_r2['은행_순매수'] = kospi_trade_r2['은행_순매수'].apply(pd.to_numeric)\n",
        "kospi_trade_r2['기타금융_순매수'] = kospi_trade_r2['기타금융_순매수'].apply(pd.to_numeric)\n",
        "kospi_trade_r2['연기금 등_순매수'] = kospi_trade_r2['연기금 등_순매수'].apply(pd.to_numeric)\n",
        "kospi_trade_r2['기타외국인_순매수'] = kospi_trade_r2['기타외국인_순매수'].apply(pd.to_numeric)\n",
        "\n",
        "  # 날짜를 index로 \n",
        "kospi_trade_r3 = kospi_trade_r2.set_index('년/월/일')\n",
        "kospi_trade_r3"
      ],
      "execution_count": null,
      "outputs": []
    },
    {
      "cell_type": "code",
      "metadata": {
        "id": "fzqVDJrLyEkh",
        "colab_type": "code",
        "colab": {}
      },
      "source": [
        "# 개인, 외국인 투자자 순매수(금액)\n",
        "plt.plot(kospi_trade_r3['개인_순매수'])\n",
        "plt.plot(kospi_trade_r3['외국인_순매수'])"
      ],
      "execution_count": null,
      "outputs": []
    },
    {
      "cell_type": "code",
      "metadata": {
        "id": "1AwW7sGhyK95",
        "colab_type": "code",
        "colab": {}
      },
      "source": [
        "# 투자자별 순매수(금액) 시각화\n",
        "\n",
        "plt.figure(figsize=(10,40))\n",
        "\n",
        "plt.subplot(11,1,1);\n",
        "x = kospi_trade_r3.index\n",
        "y1 = kospi_trade_r3['개인_순매수'];\n",
        "plt.ylim([-1500000, 1500000])\n",
        "plt.plot(x,y1)\n",
        "plt.title('KOSPI 개인 순매수(단위:천주)')\n",
        "\n",
        "plt.subplot(11,1,2); \n",
        "y2 = kospi_trade_r3['외국인_순매수'];\n",
        "plt.ylim([-1500000, 1500000])\n",
        "plt.plot(x,y2, color='r')\n",
        "plt.title('KOSPI 외국인 순매수(단위:천주)')\n",
        "\n",
        "plt.subplot(11,1,3); \n",
        "y3 = kospi_trade_r3['연기금 등_순매수'];\n",
        "plt.ylim([-1500000, 1500000])\n",
        "plt.plot(x,y3, color='g')\n",
        "plt.title('KOSPI 연기금 등 순매수(단위:천주)')\n",
        "\n",
        "plt.subplot(11,1,4);\n",
        "y4 = kospi_trade_r3['금융투자_순매수'];\n",
        "plt.ylim([-1500000, 1500000])\n",
        "plt.plot(x,y1)\n",
        "plt.title('KOSPI 금융투자 순매수(단위:천주)')\n",
        "\n",
        "plt.subplot(11,1,5); \n",
        "y5 = kospi_trade_r3['보험_순매수'];\n",
        "plt.ylim([-1500000, 1500000])\n",
        "plt.plot(x,y2, color='r')\n",
        "plt.title('KOSPI 보험 순매수(단위:천주)')\n",
        "\n",
        "plt.subplot(11,1,6); \n",
        "y6 = kospi_trade_r3['사모_순매수'];\n",
        "plt.ylim([-1500000, 1500000])\n",
        "plt.plot(x,y3, color='g')\n",
        "plt.title('KOSPI 사모 순매수(단위:천주)')\n",
        "\n",
        "plt.subplot(11,1,7);\n",
        "y7 = kospi_trade_r3['은행_순매수'];\n",
        "plt.ylim([-1500000, 1500000])\n",
        "plt.plot(x,y1)\n",
        "plt.title('KOSPI 은행 순매수(단위:천주)')\n",
        "\n",
        "plt.subplot(11,1,8); \n",
        "y8 = kospi_trade_r3['기타금융_순매수'];\n",
        "plt.ylim([-1500000, 1500000])\n",
        "plt.plot(x,y2, color='r')\n",
        "plt.title('KOSPI 기타금융 순매수(단위:천주)')\n",
        "\n",
        "plt.subplot(11,1,9); \n",
        "y9 = kospi_trade_r3['연기금 등_순매수'];\n",
        "plt.ylim([-1500000, 1500000])\n",
        "plt.plot(x,y3, color='g')\n",
        "plt.title('KOSPI 연기금 등 순매수(단위:천주)')\n",
        "\n",
        "plt.subplot(11,1,10);\n",
        "x = kospi_trade_r3.index\n",
        "y10 = kospi_trade_r3['기타법인_순매수'];\n",
        "plt.ylim([-1500000, 1500000])\n",
        "plt.plot(x,y1)\n",
        "plt.title('KOSPI 기타법인 순매수(단위:천주)')\n",
        "\n",
        "plt.subplot(11,1,11); \n",
        "y11 = kospi_trade_r3['기타외국인_순매수'];\n",
        "plt.ylim([-1500000, 1500000])\n",
        "plt.plot(x,y2, color='r')\n",
        "plt.title('KOSPI 기타외국인 순매수(단위:천주)')\n",
        "\n",
        "\n",
        "plt.show()"
      ],
      "execution_count": null,
      "outputs": []
    },
    {
      "cell_type": "code",
      "metadata": {
        "id": "mZmfjtAjyX-c",
        "colab_type": "code",
        "colab": {}
      },
      "source": [
        "# 외국인, 금융투자, 보험, 투자신탁, 사모펀드, 은행이 주로 매도했다.\n",
        "kospi_trade_r3[['개인_순매수','외국인_순매수','금융투자_순매수','보험_순매수','투신_순매수','사모_순매수','은행_순매수', '기타금융_순매수','연기금 등_순매수','기타법인_순매수','기타외국인_순매수']].sum()"
      ],
      "execution_count": null,
      "outputs": []
    },
    {
      "cell_type": "code",
      "metadata": {
        "id": "71Gif7EVyiL2",
        "colab_type": "code",
        "colab": {}
      },
      "source": [
        "# 기관투자자(개인, 외국인을 제외한 투자자) 순매수(금액) 시각화\n",
        "kospi_trade_r3['기관_순매수'] = kospi_trade_r3[['금융투자_순매수','보험_순매수','투신_순매수','사모_순매수','은행_순매수', '기타금융_순매수','연기금 등_순매수','기타법인_순매수','기타외국인_순매수']].sum(axis=1)\n",
        "\n",
        "plt.figure(figsize=(10,10))\n",
        "\n",
        "plt.subplot(1,1,1);\n",
        "x = kospi_trade_r3.index\n",
        "y12 = kospi_trade_r3['기관_순매수'];\n",
        "plt.ylim([-1500000, 1500000])\n",
        "plt.plot(x,y12)\n",
        "plt.title('KOSPI 기관 순매수(단위:천주)')"
      ],
      "execution_count": null,
      "outputs": []
    },
    {
      "cell_type": "code",
      "metadata": {
        "id": "fdfm4Uma1CR_",
        "colab_type": "code",
        "colab": {}
      },
      "source": [
        "# 외국인 KOSPI 보유량 추이 \n",
        "\n",
        "kospi_foreign_por = pd.read_csv('외국인kospi보유량추이.csv', encoding='UTF-8', thousands=',')\n",
        "\n",
        "  # 자료형을 시간순서로 전환 \n",
        "kospi_foreign_por['년/월/일'] = pd.to_datetime(kospi_foreign_por['년/월/일'])\n",
        "kospi_foreign_por = kospi_foreign_por[::-1]\n",
        "\n",
        "  # 날짜를 index로 전환\n",
        "kospi_foreign_por = kospi_foreign_por.set_index('년/월/일')\n",
        "\n",
        "# 전체 KOSPI 시가 총액 중 외국인 보유 비율\n",
        "plt.plot(kospi_foreign_por['시가총액 비율(b/a)'])\n",
        "\n",
        "# 전체 KOSPI 주식 수 중 외국인 보유 비율\n",
        "plt.plot(kospi_foreign_por['주식수 비율(d/c)'])"
      ],
      "execution_count": null,
      "outputs": []
    },
    {
      "cell_type": "code",
      "metadata": {
        "id": "biaKrDJ-y2Cr",
        "colab_type": "code",
        "colab": {}
      },
      "source": [
        "kospi_trade_r4 = kospi_trade_r3[['개인_순매수', '외국인_순매수','기관_순매수']]\n",
        "kospi_trade_r4"
      ],
      "execution_count": null,
      "outputs": []
    },
    {
      "cell_type": "code",
      "metadata": {
        "id": "3MWRTXT4y6Qh",
        "colab_type": "code",
        "colab": {}
      },
      "source": [
        "# 3월달 거래원별 순매수\n",
        "kospi_trade_r5 = kospi_trade_r4.loc[96:75, ['개인_순매수','외국인_순매수','기관_순매수']]\n",
        "kospi_trade_r5"
      ],
      "execution_count": null,
      "outputs": []
    },
    {
      "cell_type": "code",
      "metadata": {
        "id": "Ip-a4GX6y-3W",
        "colab_type": "code",
        "colab": {}
      },
      "source": [
        "# KOSPI 개인 순매수 상위종목(20.01.02. ~ 20.07.21.)\n",
        "kospi_indi_pur = pd.read_csv('kospi개인순매수상위종목.csv', encoding='UTF-8', thousands=',')\n",
        "kospi_indi_pur"
      ],
      "execution_count": null,
      "outputs": []
    },
    {
      "cell_type": "code",
      "metadata": {
        "id": "BtgfAewzzM8I",
        "colab_type": "code",
        "colab": {}
      },
      "source": [
        "# KOSPI 개인 순매수 거래량 상위(20.01.02. ~ 20.07.21.)\n",
        "kospi_indi_pur.sort_values(by='거래량(주)_순매수', ascending=False).head(20)"
      ],
      "execution_count": null,
      "outputs": []
    },
    {
      "cell_type": "code",
      "metadata": {
        "id": "9XPCUl-pzjbh",
        "colab_type": "code",
        "colab": {}
      },
      "source": [
        "# KOSPI 개인 순매수 거래대금 상위(20.01.02. ~ 20.07.21.)\n",
        "kospi_indi_pur.sort_values(by='거래대금(원)_순매수', ascending=False).head(20)"
      ],
      "execution_count": null,
      "outputs": []
    },
    {
      "cell_type": "code",
      "metadata": {
        "id": "2TeajSi0zrtB",
        "colab_type": "code",
        "colab": {}
      },
      "source": [
        "# 삼성전자 개인 순매수 거래대금 비율(20.01.02. ~ 20.07.21.)\n",
        "samsung_elec = kospi_indi_pur.loc[0,'거래대금(원)_순매수']\n",
        "samsung_elec_pur_portion = (samsung_elec/(kospi_indi_pur['거래대금(원)_순매수'].sum()))\n",
        "samsung_elec_pur_portion"
      ],
      "execution_count": null,
      "outputs": []
    },
    {
      "cell_type": "code",
      "metadata": {
        "id": "9xGFa6UHz8LD",
        "colab_type": "code",
        "colab": {}
      },
      "source": [
        "# KOSPI 개인 순매수 상위종목(20.03.02. ~ 20.03.31.)\n",
        "kospi_indi_pur_mar = pd.read_csv('kospi개인순매수상위종목_3월.csv', encoding='UTF-8', thousands=',')\n",
        "kospi_indi_pur_mar"
      ],
      "execution_count": null,
      "outputs": []
    },
    {
      "cell_type": "code",
      "metadata": {
        "id": "_2Ek2asTz_Iu",
        "colab_type": "code",
        "colab": {}
      },
      "source": [
        "# KOSPI 개인 순매수 거래량 상위종목(20.03.02. ~ 20.03.31.)\n",
        "kospi_indi_pur_mar.sort_values(by='거래량(주)_순매수', ascending=False).head(20)"
      ],
      "execution_count": null,
      "outputs": []
    },
    {
      "cell_type": "code",
      "metadata": {
        "id": "3P9dVUjr0Wl8",
        "colab_type": "code",
        "colab": {}
      },
      "source": [
        "# KOSPI 개인 순매수 거래량 하위종목(20.03.02. ~ 20.03.31.)\n",
        "kospi_indi_pur_mar.sort_values(by='거래량(주)_순매수').head(20)"
      ],
      "execution_count": null,
      "outputs": []
    },
    {
      "cell_type": "code",
      "metadata": {
        "id": "_mtbmvmJ0g-4",
        "colab_type": "code",
        "colab": {}
      },
      "source": [
        "# KOSPI 개인 순매수 거래대금 상위종목(20.03.02. ~ 20.03.31.)\n",
        "kospi_indi_pur_mar.sort_values(by='거래대금(원)_순매수', ascending=False).head(20)"
      ],
      "execution_count": null,
      "outputs": []
    },
    {
      "cell_type": "code",
      "metadata": {
        "id": "uVUsOGwp0oDe",
        "colab_type": "code",
        "colab": {}
      },
      "source": [
        "# KOSPI 개인 순매수 거래대금 하위종목(20.03.02. ~ 20.03.31.)\n",
        "kospi_indi_pur_mar.sort_values(by='거래대금(원)_순매수').head(20)"
      ],
      "execution_count": null,
      "outputs": []
    },
    {
      "cell_type": "code",
      "metadata": {
        "id": "HSLJf8nE0tCG",
        "colab_type": "code",
        "colab": {}
      },
      "source": [
        "# 2020년 3월 개인 순매수 거래대금 중 삼성전자 비율\n",
        "samsung_elec_mar = kospi_indi_pur_mar.loc[0,'거래대금(원)_순매수']\n",
        "samsung_elec_pur_portion_mar = (samsung_elec_mar/(kospi_indi_pur_mar['거래대금(원)_순매수'].sum()))\n",
        "samsung_elec_pur_portion_mar"
      ],
      "execution_count": null,
      "outputs": []
    }
  ]
}